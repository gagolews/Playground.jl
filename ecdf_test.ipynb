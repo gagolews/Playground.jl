{
 "metadata": {
  "language": "Julia",
  "name": ""
 },
 "nbformat": 3,
 "nbformat_minor": 0,
 "worksheets": [
  {
   "cells": [
    {
     "cell_type": "code",
     "collapsed": false,
     "input": [
      "include(\"approxfun.jl\")\n",
      "\n",
      "x = [0.0, 0.5, 1.0]\n",
      "y = [1//4, 2//4, 3//4]\n",
      "ftest = approxfun_constant(x, y, 0//1, 1//1)\n",
      "println(typeof(ftest(-0.25)))\n",
      "println(typeof(ftest(0.25)))\n",
      "println(typeof(ftest(1.25)))\n",
      "println([ftest(x2) for x2 in -0.25:0.25:1.25])\n",
      "\n",
      "x = [0.0, 0.5, 1.0]\n",
      "y = [-1.0, -0.5, 0.0]\n",
      "ftest = approxfun_constant(x, y, -2.0, 1.0)\n",
      "[ftest(x2) for x2 in -0.25:0.25:1.25] ### Any???\n",
      "\n",
      "#code_llvm(ftest, (Float64,))"
     ],
     "language": "python",
     "metadata": {},
     "outputs": [
      {
       "output_type": "stream",
       "stream": "stdout",
       "text": [
        "Rational{"
       ]
      },
      {
       "output_type": "stream",
       "stream": "stdout",
       "text": [
        "Int64}\n",
        "Rational{Int64}\n",
        "Rational{Int64}\n",
        "0//1\n",
        "1//4\n",
        "1//4\n",
        "1//4\n",
        "1//4\n",
        "1//2\n",
        "1//1\n"
       ]
      },
      {
       "output_type": "stream",
       "stream": "stdout",
       "text": [
        "\n"
       ]
      },
      {
       "metadata": {},
       "output_type": "pyout",
       "prompt_number": 1,
       "text": [
        "7-element Array{Any,1}:\n",
        " -2.0\n",
        " -1.0\n",
        " -1.0\n",
        " -1.0\n",
        " -1.0\n",
        " -0.5\n",
        "  1.0"
       ]
      }
     ],
     "prompt_number": 1
    },
    {
     "cell_type": "code",
     "collapsed": false,
     "input": [
      "include(\"ecdf.jl\")"
     ],
     "language": "python",
     "metadata": {},
     "outputs": [
      {
       "metadata": {},
       "output_type": "pyout",
       "prompt_number": 4,
       "text": [
        "ecdf (generic function with 1 method)"
       ]
      }
     ],
     "prompt_number": 4
    },
    {
     "cell_type": "code",
     "collapsed": false,
     "input": [
      "using Winston\n",
      "f = ecdf([1,1,2,5,1,3,2,4])\n",
      "x = 0:0.01:6\n",
      "y = convert(Array{Float64,1}, [f(xx) for xx in x]) # why the conversion is necessary??\n",
      "#println([f(x) for x in 0:1:6])\n",
      "#show(typeof(x))\n",
      "#show(typeof(y))\n",
      "plot(x, y)\n",
      "#code_lowered(f, (Float64,))"
     ],
     "language": "python",
     "metadata": {},
     "outputs": [
      {
       "metadata": {},
       "output_type": "pyout",
       "png": "[encoded data removed]",
       "prompt_number": 6,
       "text": [
        "FramedPlot(...)"
       ]
      }
     ],
     "prompt_number": 6
    },
    {
     "cell_type": "code",
     "collapsed": false,
     "input": [
      "x = rand(100000)*100\n",
      "xp = 0:0.0001:100\n",
      "f = ecdf(x)\n",
      "f(1.0)\n",
      "f(2.0)\n",
      "f(3.0)\n",
      "@time [f(x)::Float64 for x in xp]\n",
      "  nothing"
     ],
     "language": "python",
     "metadata": {},
     "outputs": [
      {
       "output_type": "stream",
       "stream": "stdout",
       "text": [
        "elapsed time: 0."
       ]
      },
      {
       "output_type": "stream",
       "stream": "stdout",
       "text": [
        "457181008 seconds (87991344 bytes allocated)\n"
       ]
      }
     ],
     "prompt_number": 10
    }
   ],
   "metadata": {}
  }
 ]
}